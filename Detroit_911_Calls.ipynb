{
 "cells": [
  {
   "cell_type": "markdown",
   "metadata": {},
   "source": [
    "## DPD: 911 Calls for service "
   ]
  },
  {
   "cell_type": "markdown",
   "metadata": {},
   "source": [
    "#### Introduction: \n",
    "\n",
    "In my first assignment I have analyzed 911 Calls for Service for the City of Detroit. Being a student of Wayne State and resident of Detroit, I felt curious to look at the facts about how safe are residents of Detroit and what kind of crimes are reported the most. \n",
    "\n",
    "This dataset contains all 911 police emergency response and officer-initiated calls for service in the City of Detroit beginning September 20, 2016 until Jan 30, 2018. Emergency response calls are the result of people calling 911 to request police services. Officer-initiated calls include traffic stops, street investigations and other policing activities (such as observing crimes in progress) where police officers initiate the response. The data includes all calls taken, dispatch, travel, and total response times for those calls serviced by a police agency.\n",
    "\n",
    "Source of the data :https://data.detroitmi.gov/Public-Safety/DPD-911-Calls-for-Service-September-20-2016-Presen/wgv9-drfc\n",
    "\n",
    "I have used Pandas, Matplotlib, Seaborn and Plotly libraries to clean, analyze and visualize this dataset."
   ]
  },
  {
   "cell_type": "markdown",
   "metadata": {},
   "source": [
    "#### Import the libraries"
   ]
  },
  {
   "cell_type": "code",
   "execution_count": 85,
   "metadata": {
    "collapsed": true
   },
   "outputs": [],
   "source": [
    "# Importing all the libraries to load and visualize the data\n",
    "import numpy as np\n",
    "import pandas as pd\n",
    "import matplotlib.pyplot as plt\n",
    "import seaborn as sns\n",
    "%matplotlib inline\n",
    "\n",
    "import plotly.plotly as py\n",
    "import plotly.graph_objs as go"
   ]
  },
  {
   "cell_type": "markdown",
   "metadata": {},
   "source": [
    "#### Load the data"
   ]
  },
  {
   "cell_type": "code",
   "execution_count": 86,
   "metadata": {
    "collapsed": true
   },
   "outputs": [],
   "source": [
    "# Load the csv dataset into a pandas dataframe\n",
    "dpd = pd.read_csv('./datasets/DPD__911_Calls_for_Service__September_20__2016_-_Present.csv')"
   ]
  },
  {
   "cell_type": "markdown",
   "metadata": {},
   "source": [
    "Let's take a quick look at how the data looks like."
   ]
  },
  {
   "cell_type": "code",
   "execution_count": 87,
   "metadata": {},
   "outputs": [
    {
     "data": {
      "text/html": [
       "<div>\n",
       "<style>\n",
       "    .dataframe thead tr:only-child th {\n",
       "        text-align: right;\n",
       "    }\n",
       "\n",
       "    .dataframe thead th {\n",
       "        text-align: left;\n",
       "    }\n",
       "\n",
       "    .dataframe tbody tr th {\n",
       "        vertical-align: top;\n",
       "    }\n",
       "</style>\n",
       "<table border=\"1\" class=\"dataframe\">\n",
       "  <thead>\n",
       "    <tr style=\"text-align: right;\">\n",
       "      <th></th>\n",
       "      <th>Incident ID</th>\n",
       "      <th>Agency</th>\n",
       "      <th>Incident Address</th>\n",
       "      <th>Zip Code</th>\n",
       "      <th>Priority</th>\n",
       "      <th>Call Code</th>\n",
       "      <th>Call Description</th>\n",
       "      <th>Category</th>\n",
       "      <th>Call Time</th>\n",
       "      <th>Time of Call</th>\n",
       "      <th>...</th>\n",
       "      <th>Travel Time</th>\n",
       "      <th>Total Response Time</th>\n",
       "      <th>Time On Scene</th>\n",
       "      <th>Total Time</th>\n",
       "      <th>Neighborhood</th>\n",
       "      <th>Census Block GEOID</th>\n",
       "      <th>Council District</th>\n",
       "      <th>Longitude</th>\n",
       "      <th>Latitude</th>\n",
       "      <th>Incident Location</th>\n",
       "    </tr>\n",
       "  </thead>\n",
       "  <tbody>\n",
       "    <tr>\n",
       "      <th>0</th>\n",
       "      <td>201732500933</td>\n",
       "      <td>DPD</td>\n",
       "      <td>18000 block of FENELON ST</td>\n",
       "      <td>48234</td>\n",
       "      <td>3.0</td>\n",
       "      <td>W8190</td>\n",
       "      <td>TOWING DETAIL</td>\n",
       "      <td>TOW</td>\n",
       "      <td>11/21/2017 10:00:37 AM</td>\n",
       "      <td>10:00:37 AM</td>\n",
       "      <td>...</td>\n",
       "      <td>0.0</td>\n",
       "      <td>0.0</td>\n",
       "      <td>0.3</td>\n",
       "      <td>0.3</td>\n",
       "      <td>Krainz Woods</td>\n",
       "      <td>2.616351e+14</td>\n",
       "      <td>3.0</td>\n",
       "      <td>-83.053139</td>\n",
       "      <td>42.426768</td>\n",
       "      <td>location\\n(42.4267677150286, -83.0531386691358)</td>\n",
       "    </tr>\n",
       "    <tr>\n",
       "      <th>1</th>\n",
       "      <td>201732500926</td>\n",
       "      <td>DPD</td>\n",
       "      <td>16800 block of PLYMOUTH RD</td>\n",
       "      <td>48227</td>\n",
       "      <td>1.0</td>\n",
       "      <td>802010</td>\n",
       "      <td>HOLD UP ALARM AND MOW</td>\n",
       "      <td>HOLDUP</td>\n",
       "      <td>11/21/2017 09:55:48 AM</td>\n",
       "      <td>9:55:48 AM</td>\n",
       "      <td>...</td>\n",
       "      <td>8.1</td>\n",
       "      <td>13.3</td>\n",
       "      <td>11.3</td>\n",
       "      <td>24.5</td>\n",
       "      <td>Plymouth-I96</td>\n",
       "      <td>2.616355e+14</td>\n",
       "      <td>7.0</td>\n",
       "      <td>-83.211044</td>\n",
       "      <td>42.372283</td>\n",
       "      <td>location\\n(42.3722830005363, -83.2110440429126)</td>\n",
       "    </tr>\n",
       "    <tr>\n",
       "      <th>2</th>\n",
       "      <td>201733100578</td>\n",
       "      <td>DPD</td>\n",
       "      <td>6000 block of DREXEL ST</td>\n",
       "      <td>48213</td>\n",
       "      <td>3.0</td>\n",
       "      <td>825030</td>\n",
       "      <td>DISTURBANCE</td>\n",
       "      <td>DISTURB</td>\n",
       "      <td>11/27/2017 05:30:02 AM</td>\n",
       "      <td>5:30:02 AM</td>\n",
       "      <td>...</td>\n",
       "      <td>NaN</td>\n",
       "      <td>NaN</td>\n",
       "      <td>NaN</td>\n",
       "      <td>NaN</td>\n",
       "      <td>Chandler Park</td>\n",
       "      <td>2.616351e+14</td>\n",
       "      <td>4.0</td>\n",
       "      <td>-82.970480</td>\n",
       "      <td>42.401256</td>\n",
       "      <td>location\\n(42.4012558683492, -82.9704795227327)</td>\n",
       "    </tr>\n",
       "  </tbody>\n",
       "</table>\n",
       "<p>3 rows × 25 columns</p>\n",
       "</div>"
      ],
      "text/plain": [
       "    Incident ID Agency            Incident Address Zip Code  Priority  \\\n",
       "0  201732500933   DPD    18000 block of FENELON ST    48234       3.0   \n",
       "1  201732500926   DPD   16800 block of PLYMOUTH RD    48227       1.0   \n",
       "2  201733100578   DPD      6000 block of DREXEL ST    48213       3.0   \n",
       "\n",
       "  Call Code       Call Description  Category               Call Time  \\\n",
       "0    W8190           TOWING DETAIL  TOW       11/21/2017 10:00:37 AM   \n",
       "1    802010  HOLD UP ALARM AND MOW  HOLDUP    11/21/2017 09:55:48 AM   \n",
       "2    825030            DISTURBANCE  DISTURB   11/27/2017 05:30:02 AM   \n",
       "\n",
       "  Time of Call                       ...                        Travel Time  \\\n",
       "0  10:00:37 AM                       ...                                0.0   \n",
       "1   9:55:48 AM                       ...                                8.1   \n",
       "2   5:30:02 AM                       ...                                NaN   \n",
       "\n",
       "  Total Response Time Time On Scene  Total Time   Neighborhood  \\\n",
       "0                 0.0           0.3         0.3   Krainz Woods   \n",
       "1                13.3          11.3        24.5   Plymouth-I96   \n",
       "2                 NaN           NaN         NaN  Chandler Park   \n",
       "\n",
       "   Census Block GEOID  Council District  Longitude   Latitude  \\\n",
       "0        2.616351e+14               3.0 -83.053139  42.426768   \n",
       "1        2.616355e+14               7.0 -83.211044  42.372283   \n",
       "2        2.616351e+14               4.0 -82.970480  42.401256   \n",
       "\n",
       "                                 Incident Location  \n",
       "0  location\\n(42.4267677150286, -83.0531386691358)  \n",
       "1  location\\n(42.3722830005363, -83.2110440429126)  \n",
       "2  location\\n(42.4012558683492, -82.9704795227327)  \n",
       "\n",
       "[3 rows x 25 columns]"
      ]
     },
     "execution_count": 87,
     "metadata": {},
     "output_type": "execute_result"
    }
   ],
   "source": [
    "# Loading the top three rows of the dataset\n",
    "dpd.head(3)"
   ]
  },
  {
   "cell_type": "code",
   "execution_count": 88,
   "metadata": {},
   "outputs": [
    {
     "name": "stdout",
     "output_type": "stream",
     "text": [
      "<class 'pandas.core.frame.DataFrame'>\n",
      "RangeIndex: 819816 entries, 0 to 819815\n",
      "Data columns (total 25 columns):\n",
      "Incident ID                819816 non-null int64\n",
      "Agency                     819816 non-null object\n",
      "Incident Address           819816 non-null object\n",
      "Zip Code                   819816 non-null object\n",
      "Priority                   819049 non-null float64\n",
      "Call Code                  819816 non-null object\n",
      "Call Description           819816 non-null object\n",
      "Category                   819816 non-null object\n",
      "Call Time                  819816 non-null object\n",
      "Time of Call               819816 non-null object\n",
      "Precinct/Scout Car Area    819816 non-null object\n",
      "Responding Unit            313241 non-null object\n",
      "Officer Initiated          819816 non-null object\n",
      "Intake Time                803002 non-null float64\n",
      "Dispatch Time              721132 non-null float64\n",
      "Travel Time                705419 non-null float64\n",
      "Total Response Time        705419 non-null float64\n",
      "Time On Scene              691625 non-null float64\n",
      "Total Time                 708008 non-null float64\n",
      "Neighborhood               759538 non-null object\n",
      "Census Block GEOID         773257 non-null float64\n",
      "Council District           761241 non-null float64\n",
      "Longitude                  773268 non-null float64\n",
      "Latitude                   773268 non-null float64\n",
      "Incident Location          773268 non-null object\n",
      "dtypes: float64(11), int64(1), object(13)\n",
      "memory usage: 156.4+ MB\n",
      "None\n"
     ]
    }
   ],
   "source": [
    "# Check out the schema of the dataset\n",
    "print dpd.info()"
   ]
  },
  {
   "cell_type": "markdown",
   "metadata": {},
   "source": [
    "There are 819816 observations with 25 columns. From the above information table it is clear that quite a few no. of columns contain missing values. So, let's validate that first before jumping into the dataset.\n"
   ]
  },
  {
   "cell_type": "code",
   "execution_count": 89,
   "metadata": {},
   "outputs": [
    {
     "name": "stdout",
     "output_type": "stream",
     "text": [
      "No. of missing values in different columns:\n"
     ]
    },
    {
     "data": {
      "text/plain": [
       "Incident ID                     0\n",
       "Agency                          0\n",
       "Incident Address                0\n",
       "Zip Code                        0\n",
       "Priority                      767\n",
       "Call Code                       0\n",
       "Call Description                0\n",
       "Category                        0\n",
       "Call Time                       0\n",
       "Time of Call                    0\n",
       "Precinct/Scout Car Area         0\n",
       "Responding Unit            506575\n",
       "Officer Initiated               0\n",
       "Intake Time                 16814\n",
       "Dispatch Time               98684\n",
       "Travel Time                114397\n",
       "Total Response Time        114397\n",
       "Time On Scene              128191\n",
       "Total Time                 111808\n",
       "Neighborhood                60278\n",
       "Census Block GEOID          46559\n",
       "Council District            58575\n",
       "Longitude                   46548\n",
       "Latitude                    46548\n",
       "Incident Location           46548\n",
       "dtype: int64"
      ]
     },
     "execution_count": 89,
     "metadata": {},
     "output_type": "execute_result"
    }
   ],
   "source": [
    "# Function to calculate total no. of missing values\n",
    "def check_missing(list_values):\n",
    "    return list_values.isnull().sum()\n",
    "\n",
    "\n",
    "print \"No. of missing values in different columns:\"\n",
    "dpd.apply(check_missing)        "
   ]
  },
  {
   "cell_type": "markdown",
   "metadata": {},
   "source": [
    "ABSOLUTELY RIGHT!!!! Quite large no. of missing values. Let's handle them as needed."
   ]
  },
  {
   "cell_type": "markdown",
   "metadata": {},
   "source": [
    "There are 767 missing values in Priority. Since this column contains categorical(ordinal) values.\n"
   ]
  },
  {
   "cell_type": "code",
   "execution_count": 90,
   "metadata": {},
   "outputs": [
    {
     "data": {
      "text/plain": [
       "3.0    372981\n",
       "2.0    286967\n",
       "1.0     96028\n",
       "4.0     55084\n",
       "5.0      7985\n",
       "7.0         2\n",
       "9.0         2\n",
       "Name: Priority, dtype: int64"
      ]
     },
     "execution_count": 90,
     "metadata": {},
     "output_type": "execute_result"
    }
   ],
   "source": [
    "dpd['Priority'].value_counts()"
   ]
  },
  {
   "cell_type": "markdown",
   "metadata": {},
   "source": [
    "Quite clearly 3.0 is the most commonly occurring value in the whole dataset. So, let's replace the missing Priority values with 3.0"
   ]
  },
  {
   "cell_type": "code",
   "execution_count": 92,
   "metadata": {
    "collapsed": true
   },
   "outputs": [],
   "source": [
    "dpd['Priority'].fillna(value=3.0,inplace=True)"
   ]
  },
  {
   "cell_type": "markdown",
   "metadata": {},
   "source": [
    "Total Response Time column also has a lot of values missing too! So, the appropriate value to replace them with should be zero in this case."
   ]
  },
  {
   "cell_type": "code",
   "execution_count": 93,
   "metadata": {
    "collapsed": true
   },
   "outputs": [],
   "source": [
    "dpd['Total Response Time'].fillna(value=0.0,inplace=True)"
   ]
  },
  {
   "cell_type": "code",
   "execution_count": 94,
   "metadata": {},
   "outputs": [
    {
     "name": "stdout",
     "output_type": "stream",
     "text": [
      "No. of missing values in different columns:\n"
     ]
    },
    {
     "data": {
      "text/plain": [
       "Incident ID                     0\n",
       "Agency                          0\n",
       "Incident Address                0\n",
       "Zip Code                        0\n",
       "Priority                        0\n",
       "Call Code                       0\n",
       "Call Description                0\n",
       "Category                        0\n",
       "Call Time                       0\n",
       "Time of Call                    0\n",
       "Precinct/Scout Car Area         0\n",
       "Responding Unit            506575\n",
       "Officer Initiated               0\n",
       "Intake Time                 16814\n",
       "Dispatch Time               98684\n",
       "Travel Time                114397\n",
       "Total Response Time             0\n",
       "Time On Scene              128191\n",
       "Total Time                 111808\n",
       "Neighborhood                60278\n",
       "Census Block GEOID          46559\n",
       "Council District            58575\n",
       "Longitude                   46548\n",
       "Latitude                    46548\n",
       "Incident Location           46548\n",
       "dtype: int64"
      ]
     },
     "execution_count": 94,
     "metadata": {},
     "output_type": "execute_result"
    }
   ],
   "source": [
    "# Check out the missing values again\n",
    "print \"No. of missing values in different columns:\"\n",
    "dpd.apply(check_missing)"
   ]
  },
  {
   "cell_type": "markdown",
   "metadata": {},
   "source": [
    "No missing value in Call descriptions or categories columns. \n",
    "\n",
    "\n",
    "#### Question : What are the reasons behind these 911 calls for service?"
   ]
  },
  {
   "cell_type": "code",
   "execution_count": 95,
   "metadata": {},
   "outputs": [
    {
     "name": "stdout",
     "output_type": "stream",
     "text": [
      "No. of unique reasons for 911 Calls : 219\n"
     ]
    }
   ],
   "source": [
    "reason = dpd['Call Description'].unique()\n",
    "print \"No. of unique reasons for 911 Calls : {}\".format(len(reason))"
   ]
  },
  {
   "cell_type": "markdown",
   "metadata": {},
   "source": [
    "Interesting!!! Quite a few reasons. Let's look at the top 20 reasons for such calls."
   ]
  },
  {
   "cell_type": "code",
   "execution_count": 12,
   "metadata": {},
   "outputs": [
    {
     "data": {
      "text/html": [
       "<iframe id=\"igraph\" scrolling=\"no\" style=\"border:none;\" seamless=\"seamless\" src=\"https://plot.ly/~shruti_singh15/10.embed\" height=\"525px\" width=\"100%\"></iframe>"
      ],
      "text/plain": [
       "<plotly.tools.PlotlyDisplay object>"
      ]
     },
     "execution_count": 12,
     "metadata": {},
     "output_type": "execute_result"
    }
   ],
   "source": [
    "Call=dpd['Call Description'].value_counts()\n",
    "Call=Call.head(20)\n",
    "\n",
    "callsDf = [go.Bar(\n",
    "            x=Call.index,\n",
    "            y=Call.values,            \n",
    ")]\n",
    "\n",
    "\n",
    "layout = go.Layout(\n",
    "    title=\"Top 20 reasons for 911 calls from Sep,2016 to Jan, 2018\",\n",
    ")\n",
    "\n",
    "fig = go.Figure(data=callsDf, layout=layout)\n",
    "#layout = dict(title=\"Top 20 reasons for 911 calls from Sep,2016 to Jan,2018\")\n",
    "\n",
    "py.iplot(fig,filename='callsDf-bar')"
   ]
  },
  {
   "cell_type": "markdown",
   "metadata": {},
   "source": [
    "#### Question: Which day of the week has had the highest no. of 911 calls?"
   ]
  },
  {
   "cell_type": "markdown",
   "metadata": {},
   "source": [
    "To answer this question, we need to parse the \"Call time\" column which contains date and time in string format.So, let's go ahead and extract year, month, dayofweek and time of call by adding new columns in the dataframe."
   ]
  },
  {
   "cell_type": "code",
   "execution_count": 96,
   "metadata": {
    "collapsed": true
   },
   "outputs": [],
   "source": [
    "# Renaming the Call time column to make it more interpretable.\n",
    "dpd.rename(columns={'Call Time': 'Timestamp'}, inplace=True)\n",
    "\n",
    "# Lambda functions to extract time of call, year, month and day of week information from timestamp\n",
    "dpd['Time of Call'] =map(lambda x: x.split()[-1], dpd['Timestamp'].values)\n",
    "dpd['Year'] = map(lambda x : x.split()[0].split('/')[-1],dpd['Timestamp'].values)\n",
    "dpd['Month'] = map(lambda x : x.split()[0].split('/')[-3],dpd['Timestamp'].values)\n",
    "dpd['DayofWeek']= map(lambda x : pd.to_datetime(x).dayofweek, dpd['Timestamp'].values)"
   ]
  },
  {
   "cell_type": "code",
   "execution_count": 98,
   "metadata": {},
   "outputs": [
    {
     "data": {
      "text/html": [
       "<div>\n",
       "<style>\n",
       "    .dataframe thead tr:only-child th {\n",
       "        text-align: right;\n",
       "    }\n",
       "\n",
       "    .dataframe thead th {\n",
       "        text-align: left;\n",
       "    }\n",
       "\n",
       "    .dataframe tbody tr th {\n",
       "        vertical-align: top;\n",
       "    }\n",
       "</style>\n",
       "<table border=\"1\" class=\"dataframe\">\n",
       "  <thead>\n",
       "    <tr style=\"text-align: right;\">\n",
       "      <th></th>\n",
       "      <th>Time of Call</th>\n",
       "      <th>Year</th>\n",
       "      <th>Month</th>\n",
       "      <th>DayofWeek</th>\n",
       "    </tr>\n",
       "  </thead>\n",
       "  <tbody>\n",
       "    <tr>\n",
       "      <th>0</th>\n",
       "      <td>AM</td>\n",
       "      <td>2017</td>\n",
       "      <td>11</td>\n",
       "      <td>1</td>\n",
       "    </tr>\n",
       "    <tr>\n",
       "      <th>1</th>\n",
       "      <td>AM</td>\n",
       "      <td>2017</td>\n",
       "      <td>11</td>\n",
       "      <td>1</td>\n",
       "    </tr>\n",
       "    <tr>\n",
       "      <th>2</th>\n",
       "      <td>AM</td>\n",
       "      <td>2017</td>\n",
       "      <td>11</td>\n",
       "      <td>0</td>\n",
       "    </tr>\n",
       "    <tr>\n",
       "      <th>3</th>\n",
       "      <td>AM</td>\n",
       "      <td>2017</td>\n",
       "      <td>11</td>\n",
       "      <td>1</td>\n",
       "    </tr>\n",
       "    <tr>\n",
       "      <th>4</th>\n",
       "      <td>AM</td>\n",
       "      <td>2017</td>\n",
       "      <td>11</td>\n",
       "      <td>1</td>\n",
       "    </tr>\n",
       "  </tbody>\n",
       "</table>\n",
       "</div>"
      ],
      "text/plain": [
       "  Time of Call  Year Month  DayofWeek\n",
       "0           AM  2017    11          1\n",
       "1           AM  2017    11          1\n",
       "2           AM  2017    11          0\n",
       "3           AM  2017    11          1\n",
       "4           AM  2017    11          1"
      ]
     },
     "execution_count": 98,
     "metadata": {},
     "output_type": "execute_result"
    }
   ],
   "source": [
    "dpd[['Time of Call','Year','Month','DayofWeek']].head()"
   ]
  },
  {
   "cell_type": "markdown",
   "metadata": {},
   "source": [
    "Newly added columns like DayofWeek and Month have numerical values. Let's convert them into string to make the column more interpretable."
   ]
  },
  {
   "cell_type": "code",
   "execution_count": 99,
   "metadata": {},
   "outputs": [
    {
     "data": {
      "text/html": [
       "<div>\n",
       "<style>\n",
       "    .dataframe thead tr:only-child th {\n",
       "        text-align: right;\n",
       "    }\n",
       "\n",
       "    .dataframe thead th {\n",
       "        text-align: left;\n",
       "    }\n",
       "\n",
       "    .dataframe tbody tr th {\n",
       "        vertical-align: top;\n",
       "    }\n",
       "</style>\n",
       "<table border=\"1\" class=\"dataframe\">\n",
       "  <thead>\n",
       "    <tr style=\"text-align: right;\">\n",
       "      <th></th>\n",
       "      <th>Time of Call</th>\n",
       "      <th>Year</th>\n",
       "      <th>Month</th>\n",
       "      <th>DayofWeek</th>\n",
       "    </tr>\n",
       "  </thead>\n",
       "  <tbody>\n",
       "    <tr>\n",
       "      <th>0</th>\n",
       "      <td>AM</td>\n",
       "      <td>2017</td>\n",
       "      <td>Nov</td>\n",
       "      <td>Tuesday</td>\n",
       "    </tr>\n",
       "    <tr>\n",
       "      <th>1</th>\n",
       "      <td>AM</td>\n",
       "      <td>2017</td>\n",
       "      <td>Nov</td>\n",
       "      <td>Tuesday</td>\n",
       "    </tr>\n",
       "    <tr>\n",
       "      <th>2</th>\n",
       "      <td>AM</td>\n",
       "      <td>2017</td>\n",
       "      <td>Nov</td>\n",
       "      <td>Monday</td>\n",
       "    </tr>\n",
       "    <tr>\n",
       "      <th>3</th>\n",
       "      <td>AM</td>\n",
       "      <td>2017</td>\n",
       "      <td>Nov</td>\n",
       "      <td>Tuesday</td>\n",
       "    </tr>\n",
       "    <tr>\n",
       "      <th>4</th>\n",
       "      <td>AM</td>\n",
       "      <td>2017</td>\n",
       "      <td>Nov</td>\n",
       "      <td>Tuesday</td>\n",
       "    </tr>\n",
       "  </tbody>\n",
       "</table>\n",
       "</div>"
      ],
      "text/plain": [
       "  Time of Call  Year Month DayofWeek\n",
       "0           AM  2017   Nov   Tuesday\n",
       "1           AM  2017   Nov   Tuesday\n",
       "2           AM  2017   Nov    Monday\n",
       "3           AM  2017   Nov   Tuesday\n",
       "4           AM  2017   Nov   Tuesday"
      ]
     },
     "execution_count": 99,
     "metadata": {},
     "output_type": "execute_result"
    }
   ],
   "source": [
    "# Dictionary to map the numerical Day of Week values to string\n",
    "Day = {0:'Monday',1:'Tuesday',2:'Wednesday',3:'Thursday',4:'Friday',5:'Saturday',6:'Sunday'}\n",
    "dpd.replace({\"DayofWeek\": Day},inplace=True)\n",
    "\n",
    "# Dictionary to map the numerical Month values to string\n",
    "mon = {'01':'Jan','02':'Feb','03':'Mar','04':'Apr','05':'May','06':'June','07':'July','08':'Aug','09':'Sep','10':'Oct','11':'Nov','12':'Dec'}\n",
    "dpd.replace({\"Month\": mon},inplace=True)\n",
    "\n",
    "dpd[['Time of Call','Year','Month','DayofWeek']].head()\n"
   ]
  },
  {
   "cell_type": "code",
   "execution_count": 14,
   "metadata": {},
   "outputs": [
    {
     "data": {
      "text/html": [
       "<iframe id=\"igraph\" scrolling=\"no\" style=\"border:none;\" seamless=\"seamless\" src=\"https://plot.ly/~shruti_singh15/14.embed\" height=\"525px\" width=\"100%\"></iframe>"
      ],
      "text/plain": [
       "<plotly.tools.PlotlyDisplay object>"
      ]
     },
     "execution_count": 14,
     "metadata": {},
     "output_type": "execute_result"
    }
   ],
   "source": [
    "# Plot to visualize no. of 911 calls made per day.\n",
    "\n",
    "dw=dpd['DayofWeek'].value_counts()\n",
    "\n",
    "dwsDf = [go.Bar(\n",
    "            x=dw.index,\n",
    "            y=dw.values,            \n",
    ")]\n",
    "\n",
    "layout = go.Layout(\n",
    "    title=\"Total 911 calls per Day of Week\",\n",
    ")\n",
    "\n",
    "fig2 = go.Figure(data=dwsDf, layout=layout)\n",
    "\n",
    "py.iplot(fig2,filename='dwsDf-bar')"
   ]
  },
  {
   "cell_type": "markdown",
   "metadata": {},
   "source": [
    "Although there is not a big difference, Wednesdays and Fridays have had higher no. of calls than any other day."
   ]
  },
  {
   "cell_type": "markdown",
   "metadata": {},
   "source": [
    "#### Question: When were these calls initiated the most? Was it during the day time or evening/night time?"
   ]
  },
  {
   "cell_type": "code",
   "execution_count": 15,
   "metadata": {},
   "outputs": [
    {
     "data": {
      "text/html": [
       "<iframe id=\"igraph\" scrolling=\"no\" style=\"border:none;\" seamless=\"seamless\" src=\"https://plot.ly/~shruti_singh15/16.embed\" height=\"525px\" width=\"100%\"></iframe>"
      ],
      "text/plain": [
       "<plotly.tools.PlotlyDisplay object>"
      ]
     },
     "execution_count": 15,
     "metadata": {},
     "output_type": "execute_result"
    }
   ],
   "source": [
    "# Plot to visualize no. of 911 calls made during daytime/afternoon and evening/night time.\n",
    "ampm=dpd['Time of Call'].value_counts()\n",
    "\n",
    "ampmsDf = [go.Bar(\n",
    "            x=ampm.index,\n",
    "            y=ampm.values,   \n",
    ")]\n",
    "\n",
    "layout = go.Layout(\n",
    "    title=\"Total 911 calls vs time of the day\",\n",
    ")\n",
    "\n",
    "fig3 = go.Figure(data=ampmsDf, layout=layout)\n",
    "\n",
    "py.iplot(fig3,filename='ampmsDf-bar')"
   ]
  },
  {
   "cell_type": "markdown",
   "metadata": {},
   "source": [
    "More calls were made in late afternoon and evenings!! Let's check why these calls were made."
   ]
  },
  {
   "cell_type": "code",
   "execution_count": 110,
   "metadata": {},
   "outputs": [
    {
     "name": "stdout",
     "output_type": "stream",
     "text": [
      "Top 20 reasons for 911 calls made in PM : TRAFFIC STOP                      63085\n",
      "DISTURBANCE                       46140\n",
      "SPECIAL ATTENTION                 44922\n",
      "ASSAULT AND BATTERY               27316\n",
      "INVESTIGATE PERSON                25484\n",
      "UNKNOWN PROBLEM                   21553\n",
      "TOWING DETAIL                     15531\n",
      "FELONIOUS ASSAULT IP              15349\n",
      "AUTO X UNK INJ / IMPAIRED         11873\n",
      "ONE DOWN OR OVER THE WHEEL         9444\n",
      "LARCENY REPORT                     9436\n",
      "BUS BOARDING                       9347\n",
      "REMARKS                            9016\n",
      "PERSON WITH WEAPON                 8186\n",
      "SHOTS FIRED IP                     6652\n",
      "BURGLARY OCCUPIED RESD I/P         5749\n",
      "AUTO X OR PED X - INJURIES         5739\n",
      "UDAA REPORT                        5265\n",
      "MISCELLANEOUS TRAFFIC              5112\n",
      "VERIFIED ALR / PERSON W/O CODE     5017\n",
      "Name: Call Description, dtype: int64\n",
      "Top 20 reasons for 911 calls made in AM : SPECIAL ATTENTION                 50412\n",
      "TRAFFIC STOP                      26232\n",
      "DISTURBANCE                       26104\n",
      "ASSAULT AND BATTERY               17028\n",
      "UNKNOWN PROBLEM                   13610\n",
      "INVESTIGATE PERSON                13470\n",
      "TOWING DETAIL                     12188\n",
      "FELONIOUS ASSAULT IP               8239\n",
      "BUS BOARDING                       6470\n",
      "AUTO X UNK INJ / IMPAIRED          6246\n",
      "REMARKS                            6172\n",
      "UDAA REPORT                        5798\n",
      "VERIFIED ALR / PERSON W/O CODE     5770\n",
      "LARCENY REPORT                     5555\n",
      "ONE DOWN OR OVER THE WHEEL         5549\n",
      "BURGLARY OCCUPIED RESD I/P         5236\n",
      "SHOTS FIRED IP                     4947\n",
      "PERSON WITH WEAPON                 4544\n",
      "MALICIOUS DESTRUCTION I/P          3293\n",
      "BUILDING CHECK                     3259\n",
      "Name: Call Description, dtype: int64\n"
     ]
    }
   ],
   "source": [
    "print \"Top 20 reasons for 911 calls made in PM : {}\".format(dpd[dpd['Time of Call'] == 'PM']['Call Description'].value_counts().head(20))\n",
    "print \"Top 20 reasons for 911 calls made in AM : {}\".format(dpd[dpd['Time of Call'] == 'AM']['Call Description'].value_counts().head(20))"
   ]
  },
  {
   "cell_type": "markdown",
   "metadata": {},
   "source": [
    "#### Question: How much has been the mean response time for day and night calls? Are there any outliers? "
   ]
  },
  {
   "cell_type": "markdown",
   "metadata": {},
   "source": [
    "Total Response Time column values to handle the 911 calls by Detroit Police Dept contains negative values too. Let's validate that first."
   ]
  },
  {
   "cell_type": "code",
   "execution_count": 112,
   "metadata": {},
   "outputs": [
    {
     "data": {
      "text/plain": [
       "152659    -8.3\n",
       "268786   -69.0\n",
       "288207   -26.4\n",
       "289433   -47.2\n",
       "289597    -2.4\n",
       "289667   -13.3\n",
       "292077   -49.1\n",
       "294848   -36.1\n",
       "297760   -19.1\n",
       "298542   -51.8\n",
       "302584   -37.6\n",
       "307603   -36.4\n",
       "307661   -20.0\n",
       "309252   -36.6\n",
       "313339   -49.8\n",
       "314822   -26.1\n",
       "316180    -2.0\n",
       "321003   -47.4\n",
       "357657   -49.4\n",
       "412979   -22.2\n",
       "448719   -14.2\n",
       "475538    -0.3\n",
       "492414   -21.1\n",
       "515028   -48.6\n",
       "529498   -55.7\n",
       "531632    -1.0\n",
       "585305   -39.8\n",
       "591935   -45.0\n",
       "680858    -8.9\n",
       "688349   -48.7\n",
       "Name: Total Response Time, dtype: float64"
      ]
     },
     "execution_count": 112,
     "metadata": {},
     "output_type": "execute_result"
    }
   ],
   "source": [
    "# Check if negative values are found in Total Response Time\n",
    "dpd.loc[dpd['Total Response Time']<0,]['Total Response Time']"
   ]
  },
  {
   "cell_type": "markdown",
   "metadata": {},
   "source": [
    "These negative values don't make sense. So, lets replace them with zero. Also, they are reported in minutes. Adding a column to convert the unit from minutes to hours would be relevant here."
   ]
  },
  {
   "cell_type": "code",
   "execution_count": 113,
   "metadata": {
    "collapsed": true
   },
   "outputs": [],
   "source": [
    "# Replacing negative values with 0.0\n",
    "dpd.loc[dpd['Total Response Time']<0,'Total Response Time']=0.0\n",
    "# Adding a new column to convert unit from minutes to hour\n",
    "dpd['TotalResponseTime(hrs)'] = dpd['Total Response Time']/60.0"
   ]
  },
  {
   "cell_type": "code",
   "execution_count": 118,
   "metadata": {},
   "outputs": [
    {
     "data": {
      "text/plain": [
       "<matplotlib.text.Text at 0x12e7c0410>"
      ]
     },
     "execution_count": 118,
     "metadata": {},
     "output_type": "execute_result"
    },
    {
     "data": {
      "image/png": "[encoded data removed]",
      "text/plain": [
       "<matplotlib.figure.Figure at 0x146709110>"
      ]
     },
     "metadata": {},
     "output_type": "display_data"
    }
   ],
   "source": [
    "# Plot to visualize mean response time during AM and PM\n",
    "sns.set(style=\"darkgrid\")\n",
    "f, ax = plt.subplots(figsize=(8, 8))\n",
    "sns.barplot(x='Time of Call',y='TotalResponseTime(hrs)',data=dpd)\n",
    "ax.set_title(\"Mean response time vs time of call\")\n",
    "ax.set_xlabel('Time of Call',fontsize=14)\n",
    "ax.set_ylabel('Mean Response Time in hrs',fontsize=14)"
   ]
  },
  {
   "cell_type": "markdown",
   "metadata": {},
   "source": [
    "Higher mean response time in PM. I assume there are outliers in the dataset. Let's validate that!!!!"
   ]
  },
  {
   "cell_type": "code",
   "execution_count": 115,
   "metadata": {},
   "outputs": [
    {
     "data": {
      "text/html": [
       "<div>\n",
       "<style>\n",
       "    .dataframe thead tr:only-child th {\n",
       "        text-align: right;\n",
       "    }\n",
       "\n",
       "    .dataframe thead th {\n",
       "        text-align: left;\n",
       "    }\n",
       "\n",
       "    .dataframe tbody tr th {\n",
       "        vertical-align: top;\n",
       "    }\n",
       "</style>\n",
       "<table border=\"1\" class=\"dataframe\">\n",
       "  <thead>\n",
       "    <tr style=\"text-align: right;\">\n",
       "      <th></th>\n",
       "      <th>index</th>\n",
       "      <th>TotalResponseTime(hrs)</th>\n",
       "    </tr>\n",
       "  </thead>\n",
       "  <tbody>\n",
       "    <tr>\n",
       "      <th>0</th>\n",
       "      <td>0</td>\n",
       "      <td>0.000000</td>\n",
       "    </tr>\n",
       "    <tr>\n",
       "      <th>1</th>\n",
       "      <td>1</td>\n",
       "      <td>0.221667</td>\n",
       "    </tr>\n",
       "    <tr>\n",
       "      <th>2</th>\n",
       "      <td>2</td>\n",
       "      <td>0.000000</td>\n",
       "    </tr>\n",
       "    <tr>\n",
       "      <th>3</th>\n",
       "      <td>3</td>\n",
       "      <td>0.000000</td>\n",
       "    </tr>\n",
       "    <tr>\n",
       "      <th>4</th>\n",
       "      <td>4</td>\n",
       "      <td>0.000000</td>\n",
       "    </tr>\n",
       "  </tbody>\n",
       "</table>\n",
       "</div>"
      ],
      "text/plain": [
       "   index  TotalResponseTime(hrs)\n",
       "0      0                0.000000\n",
       "1      1                0.221667\n",
       "2      2                0.000000\n",
       "3      3                0.000000\n",
       "4      4                0.000000"
      ]
     },
     "execution_count": 115,
     "metadata": {},
     "output_type": "execute_result"
    }
   ],
   "source": [
    "# Pulling the values from TotalResponseTime(hrs) column in separate pandas dataframe and reseting the index.\n",
    "responseTime=pd.DataFrame(dpd['TotalResponseTime(hrs)'])\n",
    "responseTime.reset_index(inplace=True)\n",
    "responseTime.head()"
   ]
  },
  {
   "cell_type": "code",
   "execution_count": 117,
   "metadata": {},
   "outputs": [
    {
     "data": {
      "text/plain": [
       "<matplotlib.text.Text at 0x129248290>"
      ]
     },
     "execution_count": 117,
     "metadata": {},
     "output_type": "execute_result"
    },
    {
     "data": {
      "image/png": "[encoded data removed]",
      "text/plain": [
       "<matplotlib.figure.Figure at 0x145ebd690>"
      ]
     },
     "metadata": {},
     "output_type": "display_data"
    }
   ],
   "source": [
    "#Plot to visualize outliers in response time\n",
    "sns.set(style=\"darkgrid\")\n",
    "f, ax = plt.subplots(figsize=(14, 10))\n",
    "sns.set_color_codes(\"pastel\")\n",
    "sns.regplot(x=\"index\", y=\"TotalResponseTime(hrs)\", data=responseTime,fit_reg=False,color='red')\n",
    "ax_set_title\n",
    "ax.set_xlabel('Index',fontsize=14)\n",
    "ax.set_ylabel('TotalResponseTime(hrs)',fontsize=14)"
   ]
  },
  {
   "cell_type": "markdown",
   "metadata": {},
   "source": [
    "Clearly there are outliers which is visible from the following box plot as well!"
   ]
  },
  {
   "cell_type": "code",
   "execution_count": 124,
   "metadata": {},
   "outputs": [
    {
     "data": {
      "text/plain": [
       "<matplotlib.text.Text at 0x17366dbd0>"
      ]
     },
     "execution_count": 124,
     "metadata": {},
     "output_type": "execute_result"
    },
    {
     "data": {
      "image/png": "[encoded data removed]",
      "text/plain": [
       "<matplotlib.figure.Figure at 0x126790190>"
      ]
     },
     "metadata": {},
     "output_type": "display_data"
    }
   ],
   "source": [
    "# Box plot to visualize response time distributions.\n",
    "ax = sns.boxplot(x=\"Time of Call\", y=\"TotalResponseTime(hrs)\", data=dpd)\n",
    "ax.set_title('Distribution of Response time vs time of call',fontsize=14)"
   ]
  },
  {
   "cell_type": "markdown",
   "metadata": {},
   "source": [
    "Lets take a look the calls with more than 30 hours of total response time."
   ]
  },
  {
   "cell_type": "code",
   "execution_count": 134,
   "metadata": {},
   "outputs": [
    {
     "data": {
      "text/html": [
       "<div>\n",
       "<style>\n",
       "    .dataframe thead tr:only-child th {\n",
       "        text-align: right;\n",
       "    }\n",
       "\n",
       "    .dataframe thead th {\n",
       "        text-align: left;\n",
       "    }\n",
       "\n",
       "    .dataframe tbody tr th {\n",
       "        vertical-align: top;\n",
       "    }\n",
       "</style>\n",
       "<table border=\"1\" class=\"dataframe\">\n",
       "  <thead>\n",
       "    <tr style=\"text-align: right;\">\n",
       "      <th></th>\n",
       "      <th>Timestamp</th>\n",
       "      <th>Month</th>\n",
       "      <th>Agency</th>\n",
       "      <th>Call Description</th>\n",
       "      <th>Neighborhood</th>\n",
       "      <th>Priority</th>\n",
       "      <th>Officer Initiated</th>\n",
       "      <th>Time of Call</th>\n",
       "      <th>TotalResponseTime(hrs)</th>\n",
       "      <th>Total Response Time</th>\n",
       "      <th>Intake Time</th>\n",
       "      <th>Dispatch Time</th>\n",
       "      <th>Travel Time</th>\n",
       "    </tr>\n",
       "  </thead>\n",
       "  <tbody>\n",
       "    <tr>\n",
       "      <th>386080</th>\n",
       "      <td>01/09/2017 08:34:48 PM</td>\n",
       "      <td>Jan</td>\n",
       "      <td>DPD</td>\n",
       "      <td>ONE DOWN OR OVER THE WHEEL</td>\n",
       "      <td>NaN</td>\n",
       "      <td>2.0</td>\n",
       "      <td>No</td>\n",
       "      <td>PM</td>\n",
       "      <td>52.426667</td>\n",
       "      <td>3145.6</td>\n",
       "      <td>3144.3</td>\n",
       "      <td>0.3</td>\n",
       "      <td>0.0</td>\n",
       "    </tr>\n",
       "    <tr>\n",
       "      <th>397850</th>\n",
       "      <td>11/05/2016 06:03:52 PM</td>\n",
       "      <td>Nov</td>\n",
       "      <td>DPD</td>\n",
       "      <td>RECOVER AUTO</td>\n",
       "      <td>NaN</td>\n",
       "      <td>3.0</td>\n",
       "      <td>No</td>\n",
       "      <td>PM</td>\n",
       "      <td>30.833333</td>\n",
       "      <td>1850.0</td>\n",
       "      <td>3.5</td>\n",
       "      <td>1834.1</td>\n",
       "      <td>11.9</td>\n",
       "    </tr>\n",
       "    <tr>\n",
       "      <th>512668</th>\n",
       "      <td>09/21/2016 01:59:36 AM</td>\n",
       "      <td>Sep</td>\n",
       "      <td>DPD</td>\n",
       "      <td>NARCOTICS I/P</td>\n",
       "      <td>Gratiot Woods</td>\n",
       "      <td>3.0</td>\n",
       "      <td>No</td>\n",
       "      <td>AM</td>\n",
       "      <td>30.610000</td>\n",
       "      <td>1836.6</td>\n",
       "      <td>0.0</td>\n",
       "      <td>1826.3</td>\n",
       "      <td>10.2</td>\n",
       "    </tr>\n",
       "    <tr>\n",
       "      <th>550264</th>\n",
       "      <td>09/20/2016 02:10:15 PM</td>\n",
       "      <td>Sep</td>\n",
       "      <td>DPD</td>\n",
       "      <td>INVESTIGATE PERSON</td>\n",
       "      <td>Franklin Park</td>\n",
       "      <td>3.0</td>\n",
       "      <td>No</td>\n",
       "      <td>PM</td>\n",
       "      <td>32.325000</td>\n",
       "      <td>1939.5</td>\n",
       "      <td>3.2</td>\n",
       "      <td>1931.0</td>\n",
       "      <td>4.9</td>\n",
       "    </tr>\n",
       "    <tr>\n",
       "      <th>746268</th>\n",
       "      <td>07/03/2017 10:20:49 PM</td>\n",
       "      <td>July</td>\n",
       "      <td>DPD</td>\n",
       "      <td>ANIMAL COMPLAINT</td>\n",
       "      <td>Outer Drive-Hayes</td>\n",
       "      <td>5.0</td>\n",
       "      <td>No</td>\n",
       "      <td>PM</td>\n",
       "      <td>37.438333</td>\n",
       "      <td>2246.3</td>\n",
       "      <td>5.2</td>\n",
       "      <td>2237.7</td>\n",
       "      <td>3.4</td>\n",
       "    </tr>\n",
       "  </tbody>\n",
       "</table>\n",
       "</div>"
      ],
      "text/plain": [
       "                     Timestamp Month Agency            Call Description  \\\n",
       "386080  01/09/2017 08:34:48 PM   Jan   DPD   ONE DOWN OR OVER THE WHEEL   \n",
       "397850  11/05/2016 06:03:52 PM   Nov   DPD                 RECOVER AUTO   \n",
       "512668  09/21/2016 01:59:36 AM   Sep   DPD                NARCOTICS I/P   \n",
       "550264  09/20/2016 02:10:15 PM   Sep   DPD           INVESTIGATE PERSON   \n",
       "746268  07/03/2017 10:20:49 PM  July   DPD             ANIMAL COMPLAINT   \n",
       "\n",
       "             Neighborhood  Priority Officer Initiated Time of Call  \\\n",
       "386080                NaN       2.0                No           PM   \n",
       "397850                NaN       3.0                No           PM   \n",
       "512668      Gratiot Woods       3.0                No           AM   \n",
       "550264      Franklin Park       3.0                No           PM   \n",
       "746268  Outer Drive-Hayes       5.0                No           PM   \n",
       "\n",
       "        TotalResponseTime(hrs)  Total Response Time  Intake Time  \\\n",
       "386080               52.426667               3145.6       3144.3   \n",
       "397850               30.833333               1850.0          3.5   \n",
       "512668               30.610000               1836.6          0.0   \n",
       "550264               32.325000               1939.5          3.2   \n",
       "746268               37.438333               2246.3          5.2   \n",
       "\n",
       "        Dispatch Time  Travel Time  \n",
       "386080            0.3          0.0  \n",
       "397850         1834.1         11.9  \n",
       "512668         1826.3         10.2  \n",
       "550264         1931.0          4.9  \n",
       "746268         2237.7          3.4  "
      ]
     },
     "execution_count": 134,
     "metadata": {},
     "output_type": "execute_result"
    }
   ],
   "source": [
    "dpd[dpd['TotalResponseTime(hrs)']>30][['Timestamp','Month','Agency','Call Description','Neighborhood','Priority','Officer Initiated','Time of Call','TotalResponseTime(hrs)','Total Response Time','Intake Time','Dispatch Time','Travel Time']]"
   ]
  },
  {
   "cell_type": "markdown",
   "metadata": {},
   "source": [
    "Although being a high priority call it took 3145.6 minutes(52.5 hours) on Jan 9, 2017 for DPD to respond to an emergency call(not initiated by Officer). Such high response time was due to very high intake time.\n",
    "\n",
    "There are other high response time cases as well due to high dispatch time. \n",
    "\n",
    "It is worth noticing that such high response time(outlier) calls are the ones that are made in the late afternoon or evening which is also confirmed by the above two visualizations for outliers.\n",
    "\n"
   ]
  },
  {
   "cell_type": "markdown",
   "metadata": {},
   "source": [
    "#### Question: What can we say about emergency 911 calls that are not initiated by officers? What were the top reasons for such calls in 2016, 2017 and 2018 seperately?"
   ]
  },
  {
   "cell_type": "markdown",
   "metadata": {},
   "source": [
    "Lets's gain some insights on emergency 911 calls which are not initiated by police officers. They are rather initiated by general public."
   ]
  },
  {
   "cell_type": "code",
   "execution_count": 135,
   "metadata": {
    "collapsed": true
   },
   "outputs": [],
   "source": [
    "# Lets cull the data for the same\n",
    "ecalls=dpd[dpd['Officer Initiated'] == 'No']"
   ]
  },
  {
   "cell_type": "code",
   "execution_count": 136,
   "metadata": {},
   "outputs": [
    {
     "name": "stdout",
     "output_type": "stream",
     "text": [
      "No. of missing values in different columns:\n"
     ]
    },
    {
     "data": {
      "text/plain": [
       "Incident ID                     0\n",
       "Agency                          0\n",
       "Incident Address                0\n",
       "Zip Code                        0\n",
       "Priority                        0\n",
       "Call Code                       0\n",
       "Call Description                0\n",
       "Category                        0\n",
       "Timestamp                       0\n",
       "Time of Call                    0\n",
       "Precinct/Scout Car Area         0\n",
       "Responding Unit            371540\n",
       "Officer Initiated               0\n",
       "Intake Time                 16812\n",
       "Dispatch Time               97778\n",
       "Travel Time                113397\n",
       "Total Response Time             0\n",
       "Time On Scene              115494\n",
       "Total Time                  99189\n",
       "Neighborhood                15049\n",
       "Census Block GEOID           8035\n",
       "Council District            13910\n",
       "Longitude                    8024\n",
       "Latitude                     8024\n",
       "Incident Location            8024\n",
       "Year                            0\n",
       "Month                           0\n",
       "DayofWeek                       0\n",
       "TotalResponseTime(hrs)          0\n",
       "dtype: int64"
      ]
     },
     "execution_count": 136,
     "metadata": {},
     "output_type": "execute_result"
    }
   ],
   "source": [
    "# Check out the missing values \n",
    "print \"No. of missing values in different columns:\"\n",
    "ecalls.apply(check_missing)"
   ]
  },
  {
   "cell_type": "markdown",
   "metadata": {},
   "source": [
    "Although the dataset contains data for only three months in 2016 and less than one complete month in 2018, looking at top reasons for emergency calls for the year 2016, 2017 and 2018 seperately may give us insights into reasons for such calls."
   ]
  },
  {
   "cell_type": "code",
   "execution_count": 137,
   "metadata": {},
   "outputs": [
    {
     "name": "stdout",
     "output_type": "stream",
     "text": [
      "                 Reason  TotalCalls\n",
      "0           DISTURBANCE       14259\n",
      "1   ASSAULT AND BATTERY        8784\n",
      "2       UNKNOWN PROBLEM        5732\n",
      "3    INVESTIGATE PERSON        5302\n",
      "4  FELONIOUS ASSAULT IP        4261\n"
     ]
    },
    {
     "data": {
      "text/plain": [
       "<matplotlib.text.Text at 0x16fa19650>"
      ]
     },
     "execution_count": 137,
     "metadata": {},
     "output_type": "execute_result"
    },
    {
     "data": {
      "image/png": "[encoded data removed]",
      "text/plain": [
       "<matplotlib.figure.Figure at 0x16fa03550>"
      ]
     },
     "metadata": {},
     "output_type": "display_data"
    }
   ],
   "source": [
    "# Plot to visualize top 20 reasons for emrgency calls in 2016\n",
    "emergencyCalls2016=ecalls[ecalls['Year']=='2016']['Call Description'].value_counts()\n",
    "emergencyCalls2016=pd.DataFrame(emergencyCalls2016)\n",
    "emergencyCalls2016.reset_index(inplace=True)\n",
    "emergencyCalls2016.rename(columns={'index':'Reason','Call Description':'TotalCalls'},inplace=True)\n",
    "print emergencyCalls2016.head()\n",
    "\n",
    "sns.set(style=\"white\")\n",
    "f, ax = plt.subplots(figsize=(10, 15))\n",
    "sns.set_color_codes(\"pastel\")\n",
    "sns.barplot(x=\"TotalCalls\", y=\"Reason\", data=emergencyCalls2016.head(20),\n",
    "            label=\"TotalCalls in 2016\")\n",
    "ax.set_xlabel('Total No. of Calls',fontsize=14)\n",
    "ax.set_ylabel('Reason',fontsize=14)"
   ]
  },
  {
   "cell_type": "code",
   "execution_count": 138,
   "metadata": {},
   "outputs": [
    {
     "name": "stdout",
     "output_type": "stream",
     "text": [
      "                 Reason  TotalCalls\n",
      "0           DISTURBANCE       53682\n",
      "1   ASSAULT AND BATTERY       31841\n",
      "2       UNKNOWN PROBLEM       24093\n",
      "3    INVESTIGATE PERSON       18424\n",
      "4  FELONIOUS ASSAULT IP       18193\n"
     ]
    },
    {
     "data": {
      "text/plain": [
       "<matplotlib.text.Text at 0x16db2ee90>"
      ]
     },
     "execution_count": 138,
     "metadata": {},
     "output_type": "execute_result"
    },
    {
     "data": {
      "image/png": "[encoded data removed]",
      "text/plain": [
       "<matplotlib.figure.Figure at 0x130f74110>"
      ]
     },
     "metadata": {},
     "output_type": "display_data"
    }
   ],
   "source": [
    "# Plot to visualize top 20 reasons for emrgency calls in 2017\n",
    "emergencyCalls2017=ecalls[ecalls['Year']=='2017']['Call Description'].value_counts()\n",
    "emergencyCalls2017=pd.DataFrame(emergencyCalls2017)\n",
    "emergencyCalls2017.reset_index(inplace=True)\n",
    "emergencyCalls2017.rename(columns={'index':'Reason','Call Description':'TotalCalls'},inplace=True)\n",
    "print emergencyCalls2017.head()\n",
    "\n",
    "sns.set(style=\"white\")\n",
    "f, ax = plt.subplots(figsize=(10, 15))\n",
    "sns.set_color_codes(\"muted\")\n",
    "sns.barplot(x=\"TotalCalls\", y=\"Reason\", data=emergencyCalls2017.head(20),\n",
    "            label=\"TotalCalls in 2017\")\n",
    "ax.set_xlabel('Total No. of Calls',fontsize=14)\n",
    "ax.set_ylabel('Reason',fontsize=14)"
   ]
  },
  {
   "cell_type": "code",
   "execution_count": 139,
   "metadata": {},
   "outputs": [
    {
     "name": "stdout",
     "output_type": "stream",
     "text": [
      "                      Reason  TotalCalls\n",
      "0                DISTURBANCE        3511\n",
      "1        ASSAULT AND BATTERY        2017\n",
      "2            UNKNOWN PROBLEM        1978\n",
      "3         INVESTIGATE PERSON        1123\n",
      "4  AUTO X UNK INJ / IMPAIRED        1095\n"
     ]
    },
    {
     "data": {
      "text/plain": [
       "<matplotlib.text.Text at 0x128f82910>"
      ]
     },
     "execution_count": 139,
     "metadata": {},
     "output_type": "execute_result"
    },
    {
     "data": {
      "image/png": "[encoded data removed]",
      "text/plain": [
       "<matplotlib.figure.Figure at 0x13ad5c690>"
      ]
     },
     "metadata": {},
     "output_type": "display_data"
    }
   ],
   "source": [
    "# Plot to visualize top 20 reasons for emrgency calls in 2018\n",
    "emergencyCalls2018=ecalls[ecalls['Year']=='2018']['Call Description'].value_counts()\n",
    "emergencyCalls2018=pd.DataFrame(emergencyCalls2018)\n",
    "emergencyCalls2018.reset_index(inplace=True)\n",
    "emergencyCalls2018.rename(columns={'index':'Reason','Call Description':'TotalCalls'},inplace=True)\n",
    "print emergencyCalls2018.head()\n",
    "\n",
    "sns.set(style=\"white\")\n",
    "f, ax = plt.subplots(figsize=(10, 15))\n",
    "sns.set_color_codes(\"muted\")\n",
    "sns.barplot(x=\"TotalCalls\", y=\"Reason\", data=emergencyCalls2018.head(20),\n",
    "            label=\"TotalCalls in 2018\")\n",
    "ax.set_xlabel('Total No. of Calls',fontsize=14)\n",
    "ax.set_ylabel('Reason',fontsize=14)"
   ]
  },
  {
   "cell_type": "code",
   "execution_count": 140,
   "metadata": {},
   "outputs": [
    {
     "name": "stdout",
     "output_type": "stream",
     "text": [
      "216 unique reasons for emergency calls\n"
     ]
    }
   ],
   "source": [
    "print \"{} unique reasons for emergency calls\".format(len(ecalls['Call Description'].unique()))"
   ]
  },
  {
   "cell_type": "code",
   "execution_count": 141,
   "metadata": {},
   "outputs": [
    {
     "data": {
      "text/plain": [
       "DISTURB     71452\n",
       "AB          42642\n",
       "UNKPROB     31803\n",
       "INVPERS     24849\n",
       "FA IP       23508\n",
       "ACCUNK      17491\n",
       "OD          14539\n",
       "WEAPON      12687\n",
       "SHOTS IP    11441\n",
       "HI1 I/P     10937\n",
       "VERALRM     10752\n",
       "ACCINJ       8407\n",
       "MDPIP        8044\n",
       "MISCTRAF     7418\n",
       "PANIC        7326\n",
       "REMARKS      6877\n",
       "VICANML      6261\n",
       "HOLDUP       6119\n",
       "LARCENY      5925\n",
       "HRUNK        5710\n",
       "Name: Category, dtype: int64"
      ]
     },
     "execution_count": 141,
     "metadata": {},
     "output_type": "execute_result"
    }
   ],
   "source": [
    "# Value counts for top 20 emergency calls\n",
    "ecalls['Category'].value_counts().head(20)"
   ]
  },
  {
   "cell_type": "markdown",
   "metadata": {},
   "source": [
    "#### Question: How quickly did DPD respond to 911 emergency calls because of shootings? Which day and in which neighborhoods did the shootings mostly happen?"
   ]
  },
  {
   "cell_type": "code",
   "execution_count": 143,
   "metadata": {},
   "outputs": [
    {
     "data": {
      "text/plain": [
       "<matplotlib.text.Text at 0x16d8f2550>"
      ]
     },
     "execution_count": 143,
     "metadata": {},
     "output_type": "execute_result"
    },
    {
     "data": {
      "image/png": "[encoded data removed]",
      "text/plain": [
       "<matplotlib.figure.Figure at 0x16f375510>"
      ]
     },
     "metadata": {},
     "output_type": "display_data"
    }
   ],
   "source": [
    "# Plot to visualize total resposne time distribution for calls of SHOTS IP category\n",
    "sns.set(style=\"darkgrid\")\n",
    "x=ecalls[ecalls['Category'] =='SHOTS IP']['TotalResponseTime(hrs)'].values\n",
    "f, ax = plt.subplots(figsize=(10, 10))\n",
    "ax = sns.distplot(x,kde=False,color='red')\n",
    "ax.set_xlabel('TotalResponseTime(hrs)',fontsize=14)\n",
    "ax.set_ylabel('Frequency',fontsize=14)\n",
    "ax.set_title('TotalResponseTime(hrs) distribution for SHOTS IP Category',fontsize=14)"
   ]
  },
  {
   "cell_type": "markdown",
   "metadata": {},
   "source": [
    "It feels safe to find that DPD responds fairky quickly when ever there is a shooting in the city of Detroit!!!\n",
    "\n",
    "Let's find out more about when these shootings actually happen."
   ]
  },
  {
   "cell_type": "code",
   "execution_count": 144,
   "metadata": {},
   "outputs": [
    {
     "name": "stdout",
     "output_type": "stream",
     "text": [
      "         Day  TotalCalls\n",
      "0     Sunday        2314\n",
      "1   Saturday        2114\n",
      "2     Monday        1588\n",
      "3     Friday        1510\n",
      "4    Tuesday        1346\n",
      "5   Thursday        1285\n",
      "6  Wednesday        1284\n"
     ]
    },
    {
     "data": {
      "text/plain": [
       "<matplotlib.text.Text at 0x139ede290>"
      ]
     },
     "execution_count": 144,
     "metadata": {},
     "output_type": "execute_result"
    },
    {
     "data": {
      "image/png": "[encoded data removed]",
      "text/plain": [
       "<matplotlib.figure.Figure at 0x16ffadb10>"
      ]
     },
     "metadata": {},
     "output_type": "display_data"
    }
   ],
   "source": [
    "shots=ecalls[ecalls['Call Description'] =='SHOTS FIRED IP']['DayofWeek'].value_counts()\n",
    "shots = pd.DataFrame(shots)\n",
    "shots.reset_index(inplace=True)\n",
    "shots.rename(columns={'index':'Day','DayofWeek':'TotalCalls'},inplace=True)\n",
    "print shots\n",
    "\n",
    "sns.set(style=\"whitegrid\")\n",
    "f, ax = plt.subplots(figsize=(12, 10))\n",
    "sns.set_color_codes(\"dark\")\n",
    "sns.barplot(x=\"Day\", y=\"TotalCalls\", data=shots,\n",
    "            label=\"TotalCalls vs Day of Week\")\n",
    "ax.set_xlabel('Total No. of Calls',fontsize=14)\n",
    "ax.set_ylabel('Day of Week',fontsize=14)"
   ]
  },
  {
   "cell_type": "markdown",
   "metadata": {},
   "source": [
    "Shootings mostly in the weekends. Interesting fact!!! I am curious to find out the neighborhoods in Detroit where most of these shots are fired."
   ]
  },
  {
   "cell_type": "code",
   "execution_count": 341,
   "metadata": {
    "scrolled": false
   },
   "outputs": [
    {
     "data": {
      "text/html": [
       "<iframe id=\"igraph\" scrolling=\"no\" style=\"border:none;\" seamless=\"seamless\" src=\"https://plot.ly/~shruti_singh15/20.embed\" height=\"525px\" width=\"100%\"></iframe>"
      ],
      "text/plain": [
       "<plotly.tools.PlotlyDisplay object>"
      ]
     },
     "execution_count": 341,
     "metadata": {},
     "output_type": "execute_result"
    }
   ],
   "source": [
    "#Plot to visualize top neighborhoods where most of the shootings happen\n",
    "shotsdf=ecalls[ecalls['Call Description'] =='SHOTS FIRED IP']['Neighborhood'].value_counts()\n",
    "shotsdf=shotsdf.head(20)\n",
    "\n",
    "shotsDf = [go.Bar(\n",
    "            x=shotsdf.index,\n",
    "            y=shotsdf.values,            \n",
    ")]\n",
    "\n",
    "layout = go.Layout(\n",
    "    title=\"Top 20 neighborhoods with highest no. of Shooting's 911 calls from Sep,2016 to Jan,2018\",\n",
    ")\n",
    "\n",
    "fig5 = go.Figure(data=shotsDf, layout=layout)\n",
    "\n",
    "py.iplot(fig5,filename='shotsDf-bar')"
   ]
  },
  {
   "cell_type": "markdown",
   "metadata": {},
   "source": [
    "#### Question : Which neighborhoods have had the highest no. of 911 calls (both emergency and officer initiated)?"
   ]
  },
  {
   "cell_type": "code",
   "execution_count": 338,
   "metadata": {},
   "outputs": [
    {
     "data": {
      "text/html": [
       "<iframe id=\"igraph\" scrolling=\"no\" style=\"border:none;\" seamless=\"seamless\" src=\"https://plot.ly/~shruti_singh15/18.embed\" height=\"525px\" width=\"100%\"></iframe>"
      ],
      "text/plain": [
       "<plotly.tools.PlotlyDisplay object>"
      ]
     },
     "execution_count": 338,
     "metadata": {},
     "output_type": "execute_result"
    }
   ],
   "source": [
    "#Plot to visualize top neighborhoods where most of the emergency calls are made.\n",
    "eneigh =ecalls['Neighborhood'].value_counts()\n",
    "eneigh=eneigh.head(20)\n",
    "\n",
    "eneighsDf = [go.Bar(\n",
    "            x=eneigh.index,\n",
    "            y=eneigh.values,            \n",
    ")]\n",
    "\n",
    "layout = go.Layout(\n",
    "    title=\"Top 20 neighborhoods with highest emergency 911 calls from Sep,2016 to Jan,2018\",\n",
    ")\n",
    "\n",
    "fig4 = go.Figure(data=eneighsDf, layout=layout)\n",
    "\n",
    "py.iplot(fig4,filename='eneighsDf-bar')"
   ]
  },
  {
   "cell_type": "code",
   "execution_count": 339,
   "metadata": {},
   "outputs": [
    {
     "data": {
      "text/html": [
       "<iframe id=\"igraph\" scrolling=\"no\" style=\"border:none;\" seamless=\"seamless\" src=\"https://plot.ly/~shruti_singh15/12.embed\" height=\"525px\" width=\"100%\"></iframe>"
      ],
      "text/plain": [
       "<plotly.tools.PlotlyDisplay object>"
      ]
     },
     "execution_count": 339,
     "metadata": {},
     "output_type": "execute_result"
    }
   ],
   "source": [
    "#Plot to visualize top neighborhoods where most of the 911 calls are made\n",
    "neigh =dpd['Neighborhood'].value_counts()\n",
    "neigh=neigh.head(20)\n",
    "\n",
    "neighsDf = [go.Bar(\n",
    "            x=neigh.index,\n",
    "            y=neigh.values,            \n",
    ")]\n",
    "\n",
    "layout = go.Layout(\n",
    "    title=\"Top 20 neighborhoods with highest 911 calls from Sep,2016 to Jan,2018\",\n",
    ")\n",
    "\n",
    "fig1 = go.Figure(data=neighsDf, layout=layout)\n",
    "\n",
    "py.iplot(fig1,filename='neighsDf-bar')"
   ]
  },
  {
   "cell_type": "markdown",
   "metadata": {},
   "source": [
    "From the above two graphs it is obvious that Wayne State Area has more officer initiated calls than emergency calls intiated by respondents.\n",
    "\n",
    "Lets look at the top neighborhoods where weapons have been reported. "
   ]
  },
  {
   "cell_type": "markdown",
   "metadata": {},
   "source": [
    "#### Question: Which neighborhoods have had reports on weapons or kidnapping?"
   ]
  },
  {
   "cell_type": "code",
   "execution_count": 145,
   "metadata": {},
   "outputs": [
    {
     "data": {
      "text/plain": [
       "Warrendale               407\n",
       "Harmony Village          268\n",
       "Outer Drive-Hayes        243\n",
       "Regent Park              233\n",
       "Morningside              213\n",
       "Oakman Blvd Community    212\n",
       "Franklin Park            211\n",
       "Brightmoor               209\n",
       "Dexter-Linwood           208\n",
       "Claytown                 204\n",
       "Barton-McFarland         186\n",
       "Midwest                  177\n",
       "Warren Ave Community     168\n",
       "Pulaski                  163\n",
       "Moross-Morang            160\n",
       "Crary/St Marys           159\n",
       "Cornerstone Village      157\n",
       "Nolan                    146\n",
       "Airport Sub              145\n",
       "Mapleridge               144\n",
       "Name: Neighborhood, dtype: int64"
      ]
     },
     "execution_count": 145,
     "metadata": {},
     "output_type": "execute_result"
    }
   ],
   "source": [
    "dpd[dpd['Category'] =='WEAPON  ']['Neighborhood'].value_counts().head(20)"
   ]
  },
  {
   "cell_type": "markdown",
   "metadata": {},
   "source": [
    "Warrendale, Harmony Village, Regent Park are top in list.It is very obvious because these areas have had highest no. of shooting as well.\n",
    "\n",
    "How neighborhoods with maximum no. of Kidnapping Reports?"
   ]
  },
  {
   "cell_type": "code",
   "execution_count": 152,
   "metadata": {},
   "outputs": [
    {
     "data": {
      "text/plain": [
       "Warrendale               58\n",
       "Midwest                  42\n",
       "Claytown                 34\n",
       "Moross-Morang            32\n",
       "Dexter-Linwood           32\n",
       "Outer Drive-Hayes        30\n",
       "Warren Ave Community     29\n",
       "Regent Park              28\n",
       "Barton-McFarland         28\n",
       "Airport Sub              26\n",
       "Cornerstone Village      26\n",
       "Oakman Blvd Community    25\n",
       "Brightmoor               24\n",
       "Greenfield               24\n",
       "Morningside              23\n",
       "Joy Community            22\n",
       "Harmony Village          22\n",
       "Franklin Park            22\n",
       "Schulze                  21\n",
       "Mapleridge               21\n",
       "Name: Neighborhood, dtype: int64"
      ]
     },
     "execution_count": 152,
     "metadata": {},
     "output_type": "execute_result"
    }
   ],
   "source": [
    "dpd[dpd['Call Description']=='KIDNAPPING']['Neighborhood'].value_counts().head(20)"
   ]
  },
  {
   "cell_type": "markdown",
   "metadata": {},
   "source": [
    "Warrendale, Midwest, Claytown are top in the list for kidnapping."
   ]
  },
  {
   "cell_type": "markdown",
   "metadata": {},
   "source": [
    "#### Final Thoughts:\n",
    "\n",
    "The above analysis may give its readers signification insights into when and from where most of the 911 calls have been initiated. There were lot of missing values and negative values in response time column. Considering those corrections(replacing missing values & negative values with zeros) this analysis can also provide a fair sense of how long does Detroit Police takes to respond to such calls. \n",
    "\n",
    "\n",
    "Besides other analysis, it was very intuitive to look at the neighborhoods (like Warrendale, Harmony Village, Spring Wells, Regent Park etc) where the maximum of no. of shootings have been reported and that Detroit Police has been responding fairly quickly to such high priority critical calls for service.\n",
    "\n",
    "Until now I have only explored a subset of questions based on this dataset. Many more intesresting facts like the following questions can be uncovered using this dataset.\n",
    "\n",
    "1. What has been the overall trend in total response time? Has it improved over time? \n",
    "2. Are there any variables that are correlated with high response, high dispatch and high intake time?\n",
    "3. Acquiring more information can help in understanding the factors responsible for high intake and dispatch time.\n",
    "\n",
    "In future, I would like to extend this project to answer the above questions!!!\n"
   ]
  },
  {
   "cell_type": "code",
   "execution_count": null,
   "metadata": {
    "collapsed": true
   },
   "outputs": [],
   "source": []
  }
 ],
 "metadata": {
  "kernelspec": {
   "display_name": "Python 2",
   "language": "python",
   "name": "python2"
  },
  "language_info": {
   "codemirror_mode": {
    "name": "ipython",
    "version": 2
   },
   "file_extension": ".py",
   "mimetype": "text/x-python",
   "name": "python",
   "nbconvert_exporter": "python",
   "pygments_lexer": "ipython2",
   "version": "2.7.13"
  }
 },
 "nbformat": 4,
 "nbformat_minor": 2
}
